{
 "cells": [
  {
   "cell_type": "code",
   "execution_count": 1,
   "metadata": {},
   "outputs": [],
   "source": [
    "from graph import DualVertex, DualEdge, PolynomialDualGCS\n",
    "from program_options import ProgramOptions\n",
    "import numpy as np\n",
    "from util import INFO, WARN, YAY, ERROR"
   ]
  },
  {
   "cell_type": "code",
   "execution_count": 2,
   "metadata": {},
   "outputs": [
    {
     "name": "stdout",
     "output_type": "stream",
     "text": [
      "\u001b[34madding edge constraints\n",
      "\u001b[34mSolve took 0.007s\n",
      "\u001b[32msolve successful!\n",
      "\u001b[32m-5.0\n",
      "\u001b[32mSolutionResult.kSolutionFound\n",
      "\u001b[32mSolver is Mosek\n",
      "\u001b[32m<pydrake.solvers.MosekSolverDetails object at 0x2afae98b0>\n",
      "\u001b[32mtime 0.0014858245849609375\n",
      "\u001b[32mrescode 0\n",
      "\u001b[32msolution_status 1\n",
      "\u001b[34m-----\n",
      "potentials\n",
      "s 2.0\n",
      "1 1.0\n",
      "2 3.0\n",
      "3 2.0\n",
      "t 0.0\n",
      "edge penalties\n",
      "['1 2', '1 3'] 3.0\n"
     ]
    }
   ],
   "source": [
    "options = ProgramOptions()\n",
    "graph = PolynomialDualGCS(options)\n",
    "\n",
    "vs = graph.AddVertex(\"s\")\n",
    "v1 = graph.AddVertex(\"1\")\n",
    "v2 = graph.AddVertex(\"2\")\n",
    "v3 = graph.AddVertex(\"3\")\n",
    "vt = graph.AddVertex(\"t\", True)\n",
    "\n",
    "es1 = graph.AddEdge(vs, v1, 1)\n",
    "e12 = graph.AddEdge(v1, v2, 1)\n",
    "e21 = graph.AddEdge(v2, v1, 3)\n",
    "e23 = graph.AddEdge(v2, v3, 1)\n",
    "e32 = graph.AddEdge(v3, v2, 1)\n",
    "e13 = graph.AddEdge(v1, v3, 3)\n",
    "e31 = graph.AddEdge(v3, v1, 1)\n",
    "e1t = graph.AddEdge(v1, vt, 1)\n",
    "\n",
    "graph.flow_over_edges_at_least_this([e12, e13], 1)\n",
    "\n",
    "graph.MaxCostOverVertex(vs, 1)\n",
    "\n",
    "graph.SolvePolicy()\n",
    "\n",
    "INFO(\"-----\")\n",
    "\n",
    "print(\"potentials\")\n",
    "for v_name, v in graph.vertices.items():\n",
    "    print(v_name, v.J_solution)\n",
    "\n",
    "print(\"edge penalties\")\n",
    "for edges, h, flow in graph.negative_penalty_edge_sets:\n",
    "    print([e.name for e in edges], graph.value_function_solution.GetSolution(h))"
   ]
  },
  {
   "cell_type": "code",
   "execution_count": 3,
   "metadata": {},
   "outputs": [
    {
     "name": "stdout",
     "output_type": "stream",
     "text": [
      "\u001b[34madding edge constraints\n",
      "\u001b[34mSolve took 0.013s\n",
      "\u001b[32msolve successful!\n",
      "\u001b[32m-4.0\n",
      "\u001b[32mSolutionResult.kSolutionFound\n",
      "\u001b[32mSolver is Mosek\n",
      "\u001b[32m<pydrake.solvers.MosekSolverDetails object at 0x2afaf3570>\n",
      "\u001b[32mtime 0.0072290897369384766\n",
      "\u001b[32mrescode 0\n",
      "\u001b[32msolution_status 1\n",
      "\u001b[34m-----\n",
      "potentials\n",
      "s 2.0\n",
      "1 1.0\n",
      "2 0.0\n",
      "3 1.0\n",
      "4 1.0\n",
      "5 0.0\n",
      "t 0.0\n",
      "edge penalties\n",
      "['2 3', '5 4'] 2.0\n"
     ]
    }
   ],
   "source": [
    "options = ProgramOptions()\n",
    "graph = PolynomialDualGCS(options)\n",
    "\n",
    "vs = graph.AddVertex(\"s\")\n",
    "v1 = graph.AddVertex(\"1\")\n",
    "v2 = graph.AddVertex(\"2\")\n",
    "v3 = graph.AddVertex(\"3\")\n",
    "v4 = graph.AddVertex(\"4\")\n",
    "v5 = graph.AddVertex(\"5\")\n",
    "vt = graph.AddVertex(\"t\", True)\n",
    "\n",
    "es1 = graph.AddEdge(vs, v1, 1)\n",
    "\n",
    "e12 = graph.AddEdge(v1, v2, 3)\n",
    "e21 = graph.AddEdge(v2, v1, 1)\n",
    "\n",
    "e23 = graph.AddEdge(v2, v3, 1)\n",
    "e32 = graph.AddEdge(v3, v2, 1)\n",
    "\n",
    "e34 = graph.AddEdge(v3, v4, 1)\n",
    "e43 = graph.AddEdge(v4, v3, 1)\n",
    "\n",
    "e45 = graph.AddEdge(v4, v5, 1)\n",
    "e54 = graph.AddEdge(v5, v4, 1)\n",
    "\n",
    "e15 = graph.AddEdge(v1, v5, 3)\n",
    "e51 = graph.AddEdge(v5, v1, 1)\n",
    "\n",
    "e1t = graph.AddEdge(v1, vt, 1)\n",
    "\n",
    "graph.flow_over_edges_at_least_this([e23, e54], 1)\n",
    "\n",
    "graph.MaxCostOverVertex(vs, 1)\n",
    "\n",
    "graph.SolvePolicy()\n",
    "\n",
    "INFO(\"-----\")\n",
    "\n",
    "print(\"potentials\")\n",
    "for v_name, v in graph.vertices.items():\n",
    "    print(v_name, v.J_solution)\n",
    "\n",
    "print(\"edge penalties\")\n",
    "for edges, h, flow in graph.negative_penalty_edge_sets:\n",
    "    print([e.name for e in edges], graph.value_function_solution.GetSolution(h))"
   ]
  },
  {
   "cell_type": "code",
   "execution_count": 7,
   "metadata": {},
   "outputs": [
    {
     "data": {
      "text/plain": [
       "1"
      ]
     },
     "execution_count": 7,
     "metadata": {},
     "output_type": "execute_result"
    }
   ],
   "source": [
    "len(graph.negative_penalty_edge_sets)"
   ]
  },
  {
   "cell_type": "markdown",
   "metadata": {},
   "source": [
    "# I don't think this is very practical: primarily because you have to select sets and corresponding edges into / out of sets that need to be activated. generally exponential number of sets. generally large extra number of penalties. generally requires a lot more work in terms of predefining what the constraints will look like, feels like i am imbedding too much prior knowledge.\n",
    "\n",
    "## Question: check the prior literature to see what these constraints look like for other such problems -- in TSP, in TSP with revisits."
   ]
  },
  {
   "cell_type": "code",
   "execution_count": null,
   "metadata": {},
   "outputs": [],
   "source": []
  }
 ],
 "metadata": {
  "kernelspec": {
   "display_name": "Python 3",
   "language": "python",
   "name": "python3"
  },
  "language_info": {
   "codemirror_mode": {
    "name": "ipython",
    "version": 3
   },
   "file_extension": ".py",
   "mimetype": "text/x-python",
   "name": "python",
   "nbconvert_exporter": "python",
   "pygments_lexer": "ipython3",
   "version": "3.11.3"
  }
 },
 "nbformat": 4,
 "nbformat_minor": 2
}
