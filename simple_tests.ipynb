{
 "cells": [
  {
   "cell_type": "code",
   "execution_count": 1,
   "metadata": {},
   "outputs": [],
   "source": [
    "from graph import DualVertex, DualEdge, PolynomialDualGCS\n",
    "from program_options import ProgramOptions\n",
    "import numpy as np\n",
    "from util import INFO, WARN, YAY, ERROR"
   ]
  },
  {
   "cell_type": "code",
   "execution_count": 19,
   "metadata": {},
   "outputs": [
    {
     "name": "stdout",
     "output_type": "stream",
     "text": [
      "\u001b[34madding edge constraints\n",
      "\u001b[34mSolve took 0.006s\n",
      "\u001b[32msolve successful!\n",
      "\u001b[32m-1.0\n",
      "\u001b[32mSolutionResult.kSolutionFound\n",
      "\u001b[32mSolver is Mosek\n",
      "\u001b[32m<pydrake.solvers.MosekSolverDetails object at 0x2b6792e70>\n",
      "\u001b[32mtime 0.00012803077697753906\n",
      "\u001b[32mrescode 0\n",
      "\u001b[32msolution_status 1\n",
      "\u001b[34m-----\n",
      "\u001b[34mactual cost-to-go from s to t 1.0\n",
      "potentials\n",
      "s 6.0\n",
      "v 5.0\n",
      "w 1.0\n",
      "t 0.0\n",
      "positive artificial penalties\n",
      "['v w', 'w v'] 5.0\n"
     ]
    }
   ],
   "source": [
    "options = ProgramOptions()\n",
    "graph = PolynomialDualGCS(options)\n",
    "\n",
    "s = graph.AddVertex(\"s\")\n",
    "v = graph.AddVertex(\"v\")\n",
    "w = graph.AddVertex(\"w\")\n",
    "t = graph.AddVertex(\"t\", True)\n",
    "\n",
    "sv = graph.AddEdge(s, v, 1)\n",
    "vw = graph.AddEdge(v, w, -1)\n",
    "wv = graph.AddEdge(w, v, -1)\n",
    "wt = graph.AddEdge(w, t, 1)\n",
    "\n",
    "graph.flow_over_edges_no_more_than_this([vw,wv], 1)\n",
    "\n",
    "graph.MaxCostOverVertex(s, 1)\n",
    "\n",
    "graph.prog.AddLinearConstraint(graph.positive_penalty_edge_sets[0][1] == 5)\n",
    "\n",
    "graph.SolvePolicy()\n",
    "\n",
    "INFO(\"-----\")\n",
    "\n",
    "INFO(\"actual cost-to-go from s to t\", -graph.value_function_solution.get_optimal_cost())\n",
    "\n",
    "print(\"potentials\")\n",
    "for v_name, v in graph.vertices.items():\n",
    "    print(v_name, v.J_solution)\n",
    "\n",
    "if len(graph.positive_penalty_edge_sets) > 0:\n",
    "    print(\"positive artificial penalties\")\n",
    "    for edges, h, flow in graph.positive_penalty_edge_sets:\n",
    "        print([e.name for e in edges], graph.value_function_solution.GetSolution(h))\n",
    "if len(graph.negative_penalty_edge_sets) > 0:\n",
    "    print(\"negative artificial penalties\")\n",
    "    for edges, h, flow in graph.negative_penalty_edge_sets:\n",
    "        print([e.name for e in edges], graph.value_function_solution.GetSolution(h))"
   ]
  },
  {
   "cell_type": "code",
   "execution_count": null,
   "metadata": {},
   "outputs": [],
   "source": []
  },
  {
   "cell_type": "code",
   "execution_count": 13,
   "metadata": {},
   "outputs": [
    {
     "name": "stdout",
     "output_type": "stream",
     "text": [
      "\u001b[34madding edge constraints\n",
      "\u001b[34mSolve took 0.007s\n",
      "\u001b[32msolve successful!\n",
      "\u001b[32m-2.0\n",
      "\u001b[32mSolutionResult.kSolutionFound\n",
      "\u001b[32mSolver is Mosek\n",
      "\u001b[32m<pydrake.solvers.MosekSolverDetails object at 0x2b6793b70>\n",
      "\u001b[32mtime 0.00011801719665527344\n",
      "\u001b[32mrescode 0\n",
      "\u001b[32msolution_status 1\n",
      "\u001b[34m-----\n",
      "\u001b[34mactual cost-to-go from s to t 2.0\n",
      "potentials\n",
      "s 2.0\n",
      "v 1.0\n",
      "t 0.0\n",
      "negative artificial penalties\n",
      "['s v', 'v t'] -0.0\n"
     ]
    }
   ],
   "source": [
    "options = ProgramOptions()\n",
    "graph = PolynomialDualGCS(options)\n",
    "\n",
    "s = graph.AddVertex(\"s\")\n",
    "v = graph.AddVertex(\"v\")\n",
    "t = graph.AddVertex(\"t\", True)\n",
    "\n",
    "sv = graph.AddEdge(s, v, 1)\n",
    "vt = graph.AddEdge(v, t, 1)\n",
    "\n",
    "graph.flow_over_edges_at_least_this([sv, vt], 1)\n",
    "# graph.flow_over_edges_no_more_than_this([sv, vw, wt], 1)\n",
    "\n",
    "graph.MaxCostOverVertex(s, 1)\n",
    "\n",
    "graph.SolvePolicy()\n",
    "\n",
    "INFO(\"-----\")\n",
    "\n",
    "INFO(\"actual cost-to-go from s to t\", -graph.value_function_solution.get_optimal_cost())\n",
    "\n",
    "print(\"potentials\")\n",
    "for v_name, v in graph.vertices.items():\n",
    "    print(v_name, v.J_solution)\n",
    "\n",
    "if len(graph.positive_penalty_edge_sets) > 0:\n",
    "    print(\"positive artificial penalties\")\n",
    "    for edges, h, flow in graph.positive_penalty_edge_sets:\n",
    "        print([e.name for e in edges], graph.value_function_solution.GetSolution(h))\n",
    "if len(graph.negative_penalty_edge_sets) > 0:\n",
    "    print(\"negative artificial penalties\")\n",
    "    for edges, h, flow in graph.negative_penalty_edge_sets:\n",
    "        print([e.name for e in edges], graph.value_function_solution.GetSolution(h))\n",
    "# for edges, h, flow in graph.negative_penalty_edge_sets:\n",
    "#     print([e.name for e in edges], graph.value_function_solution.GetSolution(h))"
   ]
  },
  {
   "cell_type": "code",
   "execution_count": 11,
   "metadata": {},
   "outputs": [
    {
     "name": "stdout",
     "output_type": "stream",
     "text": [
      "\u001b[34madding edge constraints\n",
      "\u001b[34mSolve took 0.020s\n",
      "\u001b[32msolve successful!\n",
      "\u001b[32m-4.0\n",
      "\u001b[32mSolutionResult.kSolutionFound\n",
      "\u001b[32mSolver is Mosek\n",
      "\u001b[32m<pydrake.solvers.MosekSolverDetails object at 0x2b67920b0>\n",
      "\u001b[32mtime 0.0015869140625\n",
      "\u001b[32mrescode 0\n",
      "\u001b[32msolution_status 1\n",
      "\u001b[34m-----\n",
      "\u001b[34mactual cost-to-go from s to t 4.0\n",
      "potentials\n",
      "s 2.0\n",
      "v 1.0\n",
      "u 2.0\n",
      "w 1.0\n",
      "t 0.0\n",
      "negative artificial penalties\n",
      "['v u', 'w u'] 2.0\n"
     ]
    }
   ],
   "source": [
    "options = ProgramOptions()\n",
    "graph = PolynomialDualGCS(options)\n",
    "\n",
    "s = graph.AddVertex(\"s\")\n",
    "v = graph.AddVertex(\"v\")\n",
    "u = graph.AddVertex(\"u\")\n",
    "w = graph.AddVertex(\"w\")\n",
    "t = graph.AddVertex(\"t\", True)\n",
    "\n",
    "sv = graph.AddEdge(s, v, 1)\n",
    "vu = graph.AddEdge(v, u, 1)\n",
    "uw = graph.AddEdge(u, w, 1)\n",
    "wu = graph.AddEdge(w, u, 1)\n",
    "wv = graph.AddEdge(w, v, 1)\n",
    "vt = graph.AddEdge(v, t, 1)\n",
    "\n",
    "graph.flow_over_edges_at_least_this([vu, wu], 1)\n",
    "\n",
    "graph.MaxCostOverVertex(s, 1)\n",
    "\n",
    "graph.SolvePolicy()\n",
    "\n",
    "INFO(\"-----\")\n",
    "\n",
    "INFO(\"actual cost-to-go from s to t\", -graph.value_function_solution.get_optimal_cost())\n",
    "\n",
    "print(\"potentials\")\n",
    "for v_name, v in graph.vertices.items():\n",
    "    print(v_name, v.J_solution)\n",
    "\n",
    "if len(graph.positive_penalty_edge_sets) > 0:\n",
    "    print(\"positive artificial penalties\")\n",
    "    for edges, h, flow in graph.positive_penalty_edge_sets:\n",
    "        print([e.name for e in edges], graph.value_function_solution.GetSolution(h))\n",
    "if len(graph.negative_penalty_edge_sets) > 0:\n",
    "    print(\"negative artificial penalties\")\n",
    "    for edges, h, flow in graph.negative_penalty_edge_sets:\n",
    "        print([e.name for e in edges], graph.value_function_solution.GetSolution(h))\n",
    "# for edges, h, flow in graph.negative_penalty_edge_sets:\n",
    "#     print([e.name for e in edges], graph.value_function_solution.GetSolution(h))"
   ]
  },
  {
   "cell_type": "code",
   "execution_count": null,
   "metadata": {},
   "outputs": [],
   "source": []
  },
  {
   "cell_type": "code",
   "execution_count": null,
   "metadata": {},
   "outputs": [],
   "source": []
  },
  {
   "cell_type": "code",
   "execution_count": 18,
   "metadata": {},
   "outputs": [
    {
     "name": "stdout",
     "output_type": "stream",
     "text": [
      "\u001b[34madding edge constraints\n",
      "\u001b[34mSolve took 0.010s\n",
      "\u001b[32msolve successful!\n",
      "\u001b[32m-4.0\n",
      "\u001b[32mSolutionResult.kSolutionFound\n",
      "\u001b[32mSolver is Mosek\n",
      "\u001b[32m<pydrake.solvers.MosekSolverDetails object at 0x2ba5bde30>\n",
      "\u001b[32mtime 0.0010869503021240234\n",
      "\u001b[32mrescode 0\n",
      "\u001b[32msolution_status 1\n",
      "\u001b[34m-----\n",
      "potentials\n",
      "s 2.0\n",
      "1 1.0\n",
      "2 0.0\n",
      "3 1.0\n",
      "4 1.0\n",
      "5 0.0\n",
      "t 0.0\n",
      "edge penalties\n",
      "['2 3', '5 4'] 2.0\n"
     ]
    }
   ],
   "source": [
    "options = ProgramOptions()\n",
    "graph = PolynomialDualGCS(options)\n",
    "\n",
    "vs = graph.AddVertex(\"s\")\n",
    "v1 = graph.AddVertex(\"1\")\n",
    "v2 = graph.AddVertex(\"2\")\n",
    "v3 = graph.AddVertex(\"3\")\n",
    "v4 = graph.AddVertex(\"4\")\n",
    "v5 = graph.AddVertex(\"5\")\n",
    "vt = graph.AddVertex(\"t\", True)\n",
    "\n",
    "es1 = graph.AddEdge(vs, v1, 1)\n",
    "\n",
    "e12 = graph.AddEdge(v1, v2, 3)\n",
    "e21 = graph.AddEdge(v2, v1, 1)\n",
    "\n",
    "e23 = graph.AddEdge(v2, v3, 1)\n",
    "e32 = graph.AddEdge(v3, v2, 1)\n",
    "\n",
    "e34 = graph.AddEdge(v3, v4, 1)\n",
    "e43 = graph.AddEdge(v4, v3, 1)\n",
    "\n",
    "e45 = graph.AddEdge(v4, v5, 1)\n",
    "e54 = graph.AddEdge(v5, v4, 1)\n",
    "\n",
    "e15 = graph.AddEdge(v1, v5, 3)\n",
    "e51 = graph.AddEdge(v5, v1, 1)\n",
    "\n",
    "e1t = graph.AddEdge(v1, vt, 1)\n",
    "\n",
    "graph.flow_over_edges_at_least_this([e23, e54], 1)\n",
    "\n",
    "graph.MaxCostOverVertex(vs, 1)\n",
    "\n",
    "graph.SolvePolicy()\n",
    "\n",
    "INFO(\"-----\")\n",
    "\n",
    "print(\"potentials\")\n",
    "for v_name, v in graph.vertices.items():\n",
    "    print(v_name, v.J_solution)\n",
    "\n",
    "print(\"edge penalties\")\n",
    "for edges, h, flow in graph.negative_penalty_edge_sets:\n",
    "    print([e.name for e in edges], graph.value_function_solution.GetSolution(h))"
   ]
  },
  {
   "cell_type": "code",
   "execution_count": 7,
   "metadata": {},
   "outputs": [
    {
     "data": {
      "text/plain": [
       "1"
      ]
     },
     "execution_count": 7,
     "metadata": {},
     "output_type": "execute_result"
    }
   ],
   "source": [
    "len(graph.negative_penalty_edge_sets)"
   ]
  },
  {
   "cell_type": "markdown",
   "metadata": {},
   "source": [
    "# I don't think this is very practical: primarily because you have to select sets and corresponding edges into / out of sets that need to be activated. generally exponential number of sets. generally large extra number of penalties. generally requires a lot more work in terms of predefining what the constraints will look like, feels like i am imbedding too much prior knowledge.\n",
    "\n",
    "## Question: check the prior literature to see what these constraints look like for other such problems -- in TSP, in TSP with revisits."
   ]
  },
  {
   "cell_type": "code",
   "execution_count": null,
   "metadata": {},
   "outputs": [],
   "source": []
  }
 ],
 "metadata": {
  "kernelspec": {
   "display_name": "Python 3",
   "language": "python",
   "name": "python3"
  },
  "language_info": {
   "codemirror_mode": {
    "name": "ipython",
    "version": 3
   },
   "file_extension": ".py",
   "mimetype": "text/x-python",
   "name": "python",
   "nbconvert_exporter": "python",
   "pygments_lexer": "ipython3",
   "version": "3.11.3"
  }
 },
 "nbformat": 4,
 "nbformat_minor": 2
}
